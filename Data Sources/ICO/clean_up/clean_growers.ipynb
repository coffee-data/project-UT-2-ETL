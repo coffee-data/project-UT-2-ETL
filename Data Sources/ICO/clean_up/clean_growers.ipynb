{
 "cells": [
  {
   "cell_type": "code",
   "execution_count": 19,
   "metadata": {},
   "outputs": [],
   "source": [
    "# Dependencies\n",
    "import pandas as pd\n",
    "import numpy as np"
   ]
  },
  {
   "cell_type": "code",
   "execution_count": 20,
   "metadata": {},
   "outputs": [],
   "source": [
    "# Read CSV into pandas dataframe.\n",
    "df = pd.read_csv('trans_prices_to_growers.csv')"
   ]
  },
  {
   "cell_type": "markdown",
   "metadata": {},
   "source": [
    "## Peek Analysis\n",
    "It is immediately evident the transpose in excel created some minor problems: \n",
    "\n",
    "(a) the data set contains columns intended for naming elements in sets (i.e. Colombia, Kenya, and Tanzania all belong with 'Colombian Milds.').\n",
    "\n",
    "(b) there are unnamed rows with nothing in them.\n",
    "\n",
    "(c) there are columns with names appended .1 (i.e. Papua New Guinea.1) which represent special types of coffee (soluble)."
   ]
  },
  {
   "cell_type": "code",
   "execution_count": 21,
   "metadata": {
    "scrolled": false
   },
   "outputs": [
    {
     "data": {
      "text/html": [
       "<div>\n",
       "<style scoped>\n",
       "    .dataframe tbody tr th:only-of-type {\n",
       "        vertical-align: middle;\n",
       "    }\n",
       "\n",
       "    .dataframe tbody tr th {\n",
       "        vertical-align: top;\n",
       "    }\n",
       "\n",
       "    .dataframe thead th {\n",
       "        text-align: right;\n",
       "    }\n",
       "</style>\n",
       "<table border=\"1\" class=\"dataframe\">\n",
       "  <thead>\n",
       "    <tr style=\"text-align: right;\">\n",
       "      <th></th>\n",
       "      <th>Calendar years</th>\n",
       "      <th>Unnamed: 1</th>\n",
       "      <th>Colombian Milds</th>\n",
       "      <th>Colombia</th>\n",
       "      <th>Kenya</th>\n",
       "      <th>Tanzania</th>\n",
       "      <th>Unnamed: 6</th>\n",
       "      <th>Other Milds</th>\n",
       "      <th>Bolivia (Plurinational State of)</th>\n",
       "      <th>Burundi</th>\n",
       "      <th>...</th>\n",
       "      <th>Papua New Guinea.1</th>\n",
       "      <th>Philippines.1</th>\n",
       "      <th>Sierra Leone</th>\n",
       "      <th>Sri Lanka.1</th>\n",
       "      <th>Tanzania.1</th>\n",
       "      <th>Thailand.1</th>\n",
       "      <th>Togo</th>\n",
       "      <th>Trinidad &amp; Tobago</th>\n",
       "      <th>Uganda.1</th>\n",
       "      <th>Viet Nam.1</th>\n",
       "    </tr>\n",
       "  </thead>\n",
       "  <tbody>\n",
       "    <tr>\n",
       "      <th>0</th>\n",
       "      <td>1990</td>\n",
       "      <td>NaN</td>\n",
       "      <td>NaN</td>\n",
       "      <td>69.52</td>\n",
       "      <td>60.57</td>\n",
       "      <td>40.82</td>\n",
       "      <td>NaN</td>\n",
       "      <td>NaN</td>\n",
       "      <td>51.78</td>\n",
       "      <td>58.02</td>\n",
       "      <td>...</td>\n",
       "      <td>26.60</td>\n",
       "      <td>34.23</td>\n",
       "      <td>26.17</td>\n",
       "      <td>26.90</td>\n",
       "      <td>17.01</td>\n",
       "      <td>37.72</td>\n",
       "      <td>29.23</td>\n",
       "      <td>62.59</td>\n",
       "      <td>7.54</td>\n",
       "      <td>36.92</td>\n",
       "    </tr>\n",
       "    <tr>\n",
       "      <th>1</th>\n",
       "      <td>1991</td>\n",
       "      <td>NaN</td>\n",
       "      <td>NaN</td>\n",
       "      <td>67.13</td>\n",
       "      <td>50.68</td>\n",
       "      <td>49.50</td>\n",
       "      <td>NaN</td>\n",
       "      <td>NaN</td>\n",
       "      <td>52.42</td>\n",
       "      <td>55.02</td>\n",
       "      <td>...</td>\n",
       "      <td>29.48</td>\n",
       "      <td>34.61</td>\n",
       "      <td>NaN</td>\n",
       "      <td>25.29</td>\n",
       "      <td>17.11</td>\n",
       "      <td>18.37</td>\n",
       "      <td>28.64</td>\n",
       "      <td>62.59</td>\n",
       "      <td>11.84</td>\n",
       "      <td>30.73</td>\n",
       "    </tr>\n",
       "    <tr>\n",
       "      <th>2</th>\n",
       "      <td>1992</td>\n",
       "      <td>NaN</td>\n",
       "      <td>NaN</td>\n",
       "      <td>54.57</td>\n",
       "      <td>28.95</td>\n",
       "      <td>49.16</td>\n",
       "      <td>NaN</td>\n",
       "      <td>NaN</td>\n",
       "      <td>43.53</td>\n",
       "      <td>59.23</td>\n",
       "      <td>...</td>\n",
       "      <td>39.10</td>\n",
       "      <td>42.48</td>\n",
       "      <td>NaN</td>\n",
       "      <td>31.85</td>\n",
       "      <td>14.84</td>\n",
       "      <td>20.30</td>\n",
       "      <td>29.83</td>\n",
       "      <td>69.29</td>\n",
       "      <td>8.95</td>\n",
       "      <td>30.71</td>\n",
       "    </tr>\n",
       "    <tr>\n",
       "      <th>3</th>\n",
       "      <td>1993</td>\n",
       "      <td>NaN</td>\n",
       "      <td>NaN</td>\n",
       "      <td>50.12</td>\n",
       "      <td>47.64</td>\n",
       "      <td>38.28</td>\n",
       "      <td>NaN</td>\n",
       "      <td>NaN</td>\n",
       "      <td>27.33</td>\n",
       "      <td>58.27</td>\n",
       "      <td>...</td>\n",
       "      <td>54.80</td>\n",
       "      <td>46.45</td>\n",
       "      <td>NaN</td>\n",
       "      <td>28.89</td>\n",
       "      <td>11.88</td>\n",
       "      <td>18.29</td>\n",
       "      <td>22.64</td>\n",
       "      <td>72.20</td>\n",
       "      <td>11.77</td>\n",
       "      <td>34.53</td>\n",
       "    </tr>\n",
       "    <tr>\n",
       "      <th>4</th>\n",
       "      <td>1994</td>\n",
       "      <td>NaN</td>\n",
       "      <td>NaN</td>\n",
       "      <td>85.99</td>\n",
       "      <td>152.61</td>\n",
       "      <td>62.16</td>\n",
       "      <td>NaN</td>\n",
       "      <td>NaN</td>\n",
       "      <td>79.92</td>\n",
       "      <td>60.68</td>\n",
       "      <td>...</td>\n",
       "      <td>95.64</td>\n",
       "      <td>94.66</td>\n",
       "      <td>NaN</td>\n",
       "      <td>71.99</td>\n",
       "      <td>24.00</td>\n",
       "      <td>18.79</td>\n",
       "      <td>25.99</td>\n",
       "      <td>64.14</td>\n",
       "      <td>41.66</td>\n",
       "      <td>86.01</td>\n",
       "    </tr>\n",
       "  </tbody>\n",
       "</table>\n",
       "<p>5 rows × 74 columns</p>\n",
       "</div>"
      ],
      "text/plain": [
       "   Calendar years  Unnamed: 1  Colombian Milds  Colombia   Kenya  Tanzania  \\\n",
       "0            1990         NaN              NaN     69.52   60.57     40.82   \n",
       "1            1991         NaN              NaN     67.13   50.68     49.50   \n",
       "2            1992         NaN              NaN     54.57   28.95     49.16   \n",
       "3            1993         NaN              NaN     50.12   47.64     38.28   \n",
       "4            1994         NaN              NaN     85.99  152.61     62.16   \n",
       "\n",
       "   Unnamed: 6  Other Milds  Bolivia (Plurinational State of)  Burundi  ...  \\\n",
       "0         NaN          NaN                             51.78    58.02  ...   \n",
       "1         NaN          NaN                             52.42    55.02  ...   \n",
       "2         NaN          NaN                             43.53    59.23  ...   \n",
       "3         NaN          NaN                             27.33    58.27  ...   \n",
       "4         NaN          NaN                             79.92    60.68  ...   \n",
       "\n",
       "   Papua New Guinea.1  Philippines.1  Sierra Leone  Sri Lanka.1  Tanzania.1  \\\n",
       "0               26.60          34.23         26.17        26.90       17.01   \n",
       "1               29.48          34.61           NaN        25.29       17.11   \n",
       "2               39.10          42.48           NaN        31.85       14.84   \n",
       "3               54.80          46.45           NaN        28.89       11.88   \n",
       "4               95.64          94.66           NaN        71.99       24.00   \n",
       "\n",
       "   Thailand.1   Togo  Trinidad & Tobago  Uganda.1  Viet Nam.1  \n",
       "0       37.72  29.23              62.59      7.54       36.92  \n",
       "1       18.37  28.64              62.59     11.84       30.73  \n",
       "2       20.30  29.83              69.29      8.95       30.71  \n",
       "3       18.29  22.64              72.20     11.77       34.53  \n",
       "4       18.79  25.99              64.14     41.66       86.01  \n",
       "\n",
       "[5 rows x 74 columns]"
      ]
     },
     "execution_count": 21,
     "metadata": {},
     "output_type": "execute_result"
    }
   ],
   "source": [
    "# Preview df\n",
    "df.head()"
   ]
  },
  {
   "cell_type": "code",
   "execution_count": 22,
   "metadata": {
    "scrolled": true
   },
   "outputs": [
    {
     "data": {
      "text/plain": [
       "Calendar years         int64\n",
       "Unnamed: 1           float64\n",
       "Colombian Milds      float64\n",
       "Colombia             float64\n",
       "Kenya                float64\n",
       "                      ...   \n",
       "Thailand.1           float64\n",
       "Togo                 float64\n",
       "Trinidad & Tobago    float64\n",
       "Uganda.1             float64\n",
       "Viet Nam.1           float64\n",
       "Length: 74, dtype: object"
      ]
     },
     "execution_count": 22,
     "metadata": {},
     "output_type": "execute_result"
    }
   ],
   "source": [
    "# Dtypes look clean\n",
    "df.dtypes"
   ]
  },
  {
   "cell_type": "markdown",
   "metadata": {},
   "source": [
    "## Cleaning Data\n",
    "### Investigating columns\n",
    "#### Observations\n",
    "1. Unnamed and other problem columns have dtype int64 but actually contain NaNs.\n",
    "    \n",
    "    a. We will want to drop Unnamed columns but keep columns referencing coffee type."
   ]
  },
  {
   "cell_type": "code",
   "execution_count": 23,
   "metadata": {},
   "outputs": [
    {
     "name": "stdout",
     "output_type": "stream",
     "text": [
      "3\n",
      "['Unnamed: 1', 'Unnamed: 6', 'Unnamed: 35']\n"
     ]
    }
   ],
   "source": [
    "# Get column names and turn into a list for iteration\n",
    "cols = list(df.columns.astype(str))\n",
    "\n",
    "count = 0\n",
    "lst_garb = []\n",
    "\n",
    "# Count and print list of unwanted column names\n",
    "for col in cols:\n",
    "    if \"Unnamed\" in col:\n",
    "        count += 1\n",
    "        lst_garb.append(col)\n",
    "        \n",
    "print(count)\n",
    "print(lst_garb)\n",
    "\n"
   ]
  },
  {
   "cell_type": "code",
   "execution_count": 54,
   "metadata": {},
   "outputs": [
    {
     "data": {
      "text/plain": [
       "Calendar years         int64\n",
       "Colombian Milds      float64\n",
       "Colombia             float64\n",
       "Kenya                float64\n",
       "Tanzania             float64\n",
       "                      ...   \n",
       "Thailand.1           float64\n",
       "Togo                 float64\n",
       "Trinidad & Tobago    float64\n",
       "Uganda.1             float64\n",
       "Viet Nam.1           float64\n",
       "Length: 71, dtype: object"
      ]
     },
     "execution_count": 54,
     "metadata": {},
     "output_type": "execute_result"
    }
   ],
   "source": [
    "# df1 dropped df cols\n",
    "df1 = df.drop(columns=lst_garb)\n",
    "df1.head()"
   ]
  },
  {
   "cell_type": "code",
   "execution_count": 102,
   "metadata": {},
   "outputs": [
    {
     "data": {
      "text/html": [
       "<div>\n",
       "<style scoped>\n",
       "    .dataframe tbody tr th:only-of-type {\n",
       "        vertical-align: middle;\n",
       "    }\n",
       "\n",
       "    .dataframe tbody tr th {\n",
       "        vertical-align: top;\n",
       "    }\n",
       "\n",
       "    .dataframe thead th {\n",
       "        text-align: right;\n",
       "    }\n",
       "</style>\n",
       "<table border=\"1\" class=\"dataframe\">\n",
       "  <thead>\n",
       "    <tr style=\"text-align: right;\">\n",
       "      <th></th>\n",
       "      <th>Calendar years</th>\n",
       "      <th>Colombian Milds</th>\n",
       "      <th>Colombia</th>\n",
       "      <th>Kenya</th>\n",
       "      <th>Tanzania</th>\n",
       "      <th>Other Milds</th>\n",
       "      <th>Bolivia (Plurinational State of)</th>\n",
       "      <th>Burundi</th>\n",
       "      <th>Cameroon</th>\n",
       "      <th>Costa Rica</th>\n",
       "      <th>...</th>\n",
       "      <th>Papua New Guinea.1</th>\n",
       "      <th>Philippines.1</th>\n",
       "      <th>Sierra Leone</th>\n",
       "      <th>Sri Lanka.1</th>\n",
       "      <th>Tanzania.1</th>\n",
       "      <th>Thailand.1</th>\n",
       "      <th>Togo</th>\n",
       "      <th>Trinidad &amp; Tobago</th>\n",
       "      <th>Uganda.1</th>\n",
       "      <th>Viet Nam.1</th>\n",
       "    </tr>\n",
       "  </thead>\n",
       "  <tbody>\n",
       "  </tbody>\n",
       "</table>\n",
       "<p>0 rows × 71 columns</p>\n",
       "</div>"
      ],
      "text/plain": [
       "Empty DataFrame\n",
       "Columns: [Calendar years, Colombian Milds, Colombia, Kenya, Tanzania, Other Milds, Bolivia (Plurinational State of), Burundi, Cameroon, Costa Rica, Cuba, Democratic Republic of Congo, Dominican Republic, Ecuador, El Salvador, Guatemala, Haiti, Honduras, India, Jamaica, Madagascar, Malawi, Mexico, Nicaragua, Panama, Papua New Guinea, Peru, Rwanda, Sri Lanka, Uganda, Venezuela, Zambia, Zimbabwe, Brazilian Naturals, Angola, Brazil, Ethiopia, Indonesia, Philippines, Thailand, Viet Nam,  , Robustas, Angola.1, Benin, Brazil.1, Burundi.1, Cameroon.1, Central African Republic, Congo, Côte d'Ivoire, Democratic Republic of Congo.1, Ecuador.1, Gabon, Ghana, Guinea, India.1, Indonesia.1, Liberia, Madagascar.1, Nigeria, Papua New Guinea.1, Philippines.1, Sierra Leone, Sri Lanka.1, Tanzania.1, Thailand.1, Togo, Trinidad & Tobago, Uganda.1, Viet Nam.1]\n",
       "Index: []\n",
       "\n",
       "[0 rows x 71 columns]"
      ]
     },
     "execution_count": 102,
     "metadata": {},
     "output_type": "execute_result"
    }
   ],
   "source": [
    "# assign cols with new df1 columns\n",
    "cols = df1.colum\n",
    "len_row = len(df1.index)\n",
    "\n",
    "cols\n",
    "\n",
    "# for col in cols:\n",
    "#     count_na = 0\n",
    "#     for row in df1[col]:\n",
    "#         print(row)\n",
    "#         if type(row) != 'int64' and row.isnull():\n",
    "#             print(row)\n",
    "#             count_na +1\n",
    "#             print(count_na)\n",
    "\n",
    "# for col in cols:\n",
    "#     rows = df1[col]\n",
    "#     for row in rols"
   ]
  },
  {
   "cell_type": "code",
   "execution_count": null,
   "metadata": {},
   "outputs": [],
   "source": []
  }
 ],
 "metadata": {
  "kernelspec": {
   "display_name": "Python 3",
   "language": "python",
   "name": "python3"
  },
  "language_info": {
   "codemirror_mode": {
    "name": "ipython",
    "version": 3
   },
   "file_extension": ".py",
   "mimetype": "text/x-python",
   "name": "python",
   "nbconvert_exporter": "python",
   "pygments_lexer": "ipython3",
   "version": "3.7.6"
  }
 },
 "nbformat": 4,
 "nbformat_minor": 4
}
