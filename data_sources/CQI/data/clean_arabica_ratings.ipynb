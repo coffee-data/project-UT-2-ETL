{
 "cells": [
  {
   "cell_type": "markdown",
   "metadata": {},
   "source": [
    "## Clean up script for arabica_ratings_raw. \n",
    "Decisions arround data management will be recorded here.\n"
   ]
  },
  {
   "cell_type": "code",
   "execution_count": 1,
   "metadata": {},
   "outputs": [],
   "source": [
    "# Dependencies\n",
    "import pandas as pd\n",
    "import numpy as np\n",
    "import re"
   ]
  },
  {
   "cell_type": "code",
   "execution_count": 2,
   "metadata": {},
   "outputs": [],
   "source": [
    "# Read CSV into pandas dataframe.\n",
    "df = pd.read_csv('arabica_ratings_raw.csv')"
   ]
  },
  {
   "cell_type": "code",
   "execution_count": 10,
   "metadata": {},
   "outputs": [
    {
     "output_type": "execute_result",
     "data": {
      "text/plain": "   Unnamed: 0  quality_score  view_certificate_1  view_certificate_2  \\\n0           0          90.58                 NaN                 NaN   \n1           1          89.92                 NaN                 NaN   \n2           2          89.75                 NaN                 NaN   \n3           3          89.00                 NaN                 NaN   \n4           4          88.83                 NaN                 NaN   \n\n   Cupping Protocol and Descriptors  View Green Analysis Details  \\\n0                               NaN                          NaN   \n1                               NaN                          NaN   \n2                               NaN                          NaN   \n3                               NaN                          NaN   \n4                               NaN                          NaN   \n\n   Request a Sample  Species                     Owner Country of Origin  ...  \\\n0               NaN  Arabica                 metad plc          Ethiopia  ...   \n1               NaN  Arabica                 metad plc          Ethiopia  ...   \n2               NaN  Arabica  Grounds for Health Admin         Guatemala  ...   \n3               NaN  Arabica       Yidnekachew Dabessa          Ethiopia  ...   \n4               NaN  Arabica                 metad plc          Ethiopia  ...   \n\n  Quakers  Color Category Two Defects NA.3        Expiration  \\\n0     0.0  Green       0 full defects  NaN   April 3rd, 2016   \n1     0.0  Green       1 full defects  NaN   April 3rd, 2016   \n2     0.0    NaN       0 full defects  NaN    May 31st, 2011   \n3     0.0  Green       2 full defects  NaN  March 25th, 2016   \n4     0.0  Green       2 full defects  NaN   April 3rd, 2016   \n\n                   Certification Body  \\\n0  METAD Agricultural Development plc   \n1  METAD Agricultural Development plc   \n2        Specialty Coffee Association   \n3  METAD Agricultural Development plc   \n4  METAD Agricultural Development plc   \n\n                               Certification Address  \\\n0  BAWA Center, 3rd Floor (Gerji), Addis Ababa, E...   \n1  BAWA Center, 3rd Floor (Gerji), Addis Ababa, E...   \n2        117 W 4th St, Suite 300 Santa Ana, CA 92701   \n3  BAWA Center, 3rd Floor (Gerji), Addis Ababa, E...   \n4  BAWA Center, 3rd Floor (Gerji), Addis Ababa, E...   \n\n                               Certification Contact  Unnamed: 51 Notes  \n0  Aman Adinew (Emebet Dinku) - +251-116-292534, ...          NaN   NaN  \n1  Aman Adinew (Emebet Dinku) - +251-116-292534, ...          NaN   NaN  \n2                        Chris Buck - (562) 624-4100          NaN   NaN  \n3  Aman Adinew (Emebet Dinku) - +251-116-292534, ...          NaN   NaN  \n4  Aman Adinew (Emebet Dinku) - +251-116-292534, ...          NaN   NaN  \n\n[5 rows x 53 columns]",
      "text/html": "<div>\n<style scoped>\n    .dataframe tbody tr th:only-of-type {\n        vertical-align: middle;\n    }\n\n    .dataframe tbody tr th {\n        vertical-align: top;\n    }\n\n    .dataframe thead th {\n        text-align: right;\n    }\n</style>\n<table border=\"1\" class=\"dataframe\">\n  <thead>\n    <tr style=\"text-align: right;\">\n      <th></th>\n      <th>Unnamed: 0</th>\n      <th>quality_score</th>\n      <th>view_certificate_1</th>\n      <th>view_certificate_2</th>\n      <th>Cupping Protocol and Descriptors</th>\n      <th>View Green Analysis Details</th>\n      <th>Request a Sample</th>\n      <th>Species</th>\n      <th>Owner</th>\n      <th>Country of Origin</th>\n      <th>...</th>\n      <th>Quakers</th>\n      <th>Color</th>\n      <th>Category Two Defects</th>\n      <th>NA.3</th>\n      <th>Expiration</th>\n      <th>Certification Body</th>\n      <th>Certification Address</th>\n      <th>Certification Contact</th>\n      <th>Unnamed: 51</th>\n      <th>Notes</th>\n    </tr>\n  </thead>\n  <tbody>\n    <tr>\n      <td>0</td>\n      <td>0</td>\n      <td>90.58</td>\n      <td>NaN</td>\n      <td>NaN</td>\n      <td>NaN</td>\n      <td>NaN</td>\n      <td>NaN</td>\n      <td>Arabica</td>\n      <td>metad plc</td>\n      <td>Ethiopia</td>\n      <td>...</td>\n      <td>0.0</td>\n      <td>Green</td>\n      <td>0 full defects</td>\n      <td>NaN</td>\n      <td>April 3rd, 2016</td>\n      <td>METAD Agricultural Development plc</td>\n      <td>BAWA Center, 3rd Floor (Gerji), Addis Ababa, E...</td>\n      <td>Aman Adinew (Emebet Dinku) - +251-116-292534, ...</td>\n      <td>NaN</td>\n      <td>NaN</td>\n    </tr>\n    <tr>\n      <td>1</td>\n      <td>1</td>\n      <td>89.92</td>\n      <td>NaN</td>\n      <td>NaN</td>\n      <td>NaN</td>\n      <td>NaN</td>\n      <td>NaN</td>\n      <td>Arabica</td>\n      <td>metad plc</td>\n      <td>Ethiopia</td>\n      <td>...</td>\n      <td>0.0</td>\n      <td>Green</td>\n      <td>1 full defects</td>\n      <td>NaN</td>\n      <td>April 3rd, 2016</td>\n      <td>METAD Agricultural Development plc</td>\n      <td>BAWA Center, 3rd Floor (Gerji), Addis Ababa, E...</td>\n      <td>Aman Adinew (Emebet Dinku) - +251-116-292534, ...</td>\n      <td>NaN</td>\n      <td>NaN</td>\n    </tr>\n    <tr>\n      <td>2</td>\n      <td>2</td>\n      <td>89.75</td>\n      <td>NaN</td>\n      <td>NaN</td>\n      <td>NaN</td>\n      <td>NaN</td>\n      <td>NaN</td>\n      <td>Arabica</td>\n      <td>Grounds for Health Admin</td>\n      <td>Guatemala</td>\n      <td>...</td>\n      <td>0.0</td>\n      <td>NaN</td>\n      <td>0 full defects</td>\n      <td>NaN</td>\n      <td>May 31st, 2011</td>\n      <td>Specialty Coffee Association</td>\n      <td>117 W 4th St, Suite 300 Santa Ana, CA 92701</td>\n      <td>Chris Buck - (562) 624-4100</td>\n      <td>NaN</td>\n      <td>NaN</td>\n    </tr>\n    <tr>\n      <td>3</td>\n      <td>3</td>\n      <td>89.00</td>\n      <td>NaN</td>\n      <td>NaN</td>\n      <td>NaN</td>\n      <td>NaN</td>\n      <td>NaN</td>\n      <td>Arabica</td>\n      <td>Yidnekachew Dabessa</td>\n      <td>Ethiopia</td>\n      <td>...</td>\n      <td>0.0</td>\n      <td>Green</td>\n      <td>2 full defects</td>\n      <td>NaN</td>\n      <td>March 25th, 2016</td>\n      <td>METAD Agricultural Development plc</td>\n      <td>BAWA Center, 3rd Floor (Gerji), Addis Ababa, E...</td>\n      <td>Aman Adinew (Emebet Dinku) - +251-116-292534, ...</td>\n      <td>NaN</td>\n      <td>NaN</td>\n    </tr>\n    <tr>\n      <td>4</td>\n      <td>4</td>\n      <td>88.83</td>\n      <td>NaN</td>\n      <td>NaN</td>\n      <td>NaN</td>\n      <td>NaN</td>\n      <td>NaN</td>\n      <td>Arabica</td>\n      <td>metad plc</td>\n      <td>Ethiopia</td>\n      <td>...</td>\n      <td>0.0</td>\n      <td>Green</td>\n      <td>2 full defects</td>\n      <td>NaN</td>\n      <td>April 3rd, 2016</td>\n      <td>METAD Agricultural Development plc</td>\n      <td>BAWA Center, 3rd Floor (Gerji), Addis Ababa, E...</td>\n      <td>Aman Adinew (Emebet Dinku) - +251-116-292534, ...</td>\n      <td>NaN</td>\n      <td>NaN</td>\n    </tr>\n  </tbody>\n</table>\n<p>5 rows × 53 columns</p>\n</div>"
     },
     "metadata": {},
     "execution_count": 10
    }
   ],
   "source": [
    "df.head()"
   ]
  },
  {
   "cell_type": "code",
   "execution_count": 321,
   "metadata": {},
   "outputs": [
    {
     "output_type": "execute_result",
     "data": {
      "text/plain": "Unnamed: 0                            int64\nquality_score                       float64\nview_certificate_1                  float64\nview_certificate_2                  float64\nCupping Protocol and Descriptors    float64\nView Green Analysis Details         float64\nRequest a Sample                    float64\nSpecies                              object\nOwner                                object\nCountry of Origin                    object\nFarm Name                            object\nLot Number                           object\nMill                                 object\nICO Number                           object\nCompany                              object\nAltitude                             object\nRegion                               object\nProducer                             object\nNumber of Bags                        int64\nBag Weight                           object\nIn-Country Partner                   object\nHarvest Year                         object\nGrading Date                         object\nOwner.1                              object\nVariety                              object\nStatus                               object\nProcessing Method                    object\nNA                                   object\nAroma                               float64\nFlavor                              float64\nAftertaste                          float64\nAcidity                             float64\nBody                                float64\nBalance                             float64\nNA.1                                 object\nUniformity                          float64\nClean Cup                           float64\nSweetness                           float64\nCupper Points                       float64\nTotal Cup Points                     object\nNA.2                                float64\nMoisture                             object\nCategory One Defects                 object\nQuakers                             float64\nColor                                object\nCategory Two Defects                 object\nNA.3                                float64\nExpiration                           object\nCertification Body                   object\nCertification Address                object\nCertification Contact                object\nUnnamed: 51                         float64\nNotes                                object\ndtype: object"
     },
     "metadata": {},
     "execution_count": 321
    }
   ],
   "source": [
    "df.dtypes"
   ]
  },
  {
   "cell_type": "code",
   "execution_count": 3,
   "metadata": {},
   "outputs": [],
   "source": [
    "## Drop columns, view_certificate_1, view_certificate_2, Cupping Protocol and Descriptors, View Green Analysis Details, Request a Sample. No data\n",
    "\n",
    "df1 = df.drop(columns =['view_certificate_1','view_certificate_2','Cupping Protocol and Descriptors','View Green Analysis Details','Request a Sample','NA.1','NA.2','NA.3'])"
   ]
  },
  {
   "cell_type": "code",
   "execution_count": 4,
   "metadata": {},
   "outputs": [],
   "source": [
    "## Scan for N/A and convert to blank\n",
    "## Count number of blanks per column \n",
    "df1=df1.replace('n/a',\"\",regex=True)\n",
    "df1=df1.replace(np.nan,\"\",regex=True)\n"
   ]
  },
  {
   "cell_type": "code",
   "execution_count": 5,
   "metadata": {},
   "outputs": [],
   "source": [
    "df1= df1.drop(columns =['Unnamed: 0'])"
   ]
  },
  {
   "cell_type": "code",
   "execution_count": 6,
   "metadata": {},
   "outputs": [],
   "source": [
    "df1.index.name = 'ID'\n"
   ]
  },
  {
   "cell_type": "code",
   "execution_count": 7,
   "metadata": {},
   "outputs": [
    {
     "output_type": "execute_result",
     "data": {
      "text/plain": "quality_score              int32\nSpecies                   object\nOwner                     object\nCountry of Origin         object\nFarm Name                 object\nLot Number                object\nMill                      object\nICO Number                object\nCompany                   object\nAltitude                  object\nRegion                    object\nProducer                  object\nNumber of Bags             int64\nBag Weight                object\nIn-Country Partner        object\nHarvest Year              object\nGrading Date              object\nOwner.1                   object\nVariety                   object\nStatus                    object\nProcessing Method         object\nNA                        object\nAroma                    float64\nFlavor                   float64\nAftertaste               float64\nAcidity                  float64\nBody                     float64\nBalance                  float64\nUniformity               float64\nClean Cup                float64\nSweetness                float64\nCupper Points            float64\nTotal Cup Points          object\nMoisture                  object\nCategory One Defects      object\nQuakers                   object\nColor                     object\nCategory Two Defects      object\nExpiration                object\nCertification Body        object\nCertification Address     object\nCertification Contact     object\nUnnamed: 51               object\nNotes                     object\ndtype: object"
     },
     "metadata": {},
     "execution_count": 7
    }
   ],
   "source": [
    "## quality score convert to int\n",
    "df1.astype({'quality_score':'int32'}).dtypes"
   ]
  },
  {
   "cell_type": "code",
   "execution_count": 8,
   "metadata": {},
   "outputs": [],
   "source": [
    "df2 = df1.copy()\n",
    "df3 = df1.copy()"
   ]
  },
  {
   "cell_type": "code",
   "execution_count": 10,
   "metadata": {},
   "outputs": [],
   "source": [
    "## remove lbs/kgs before counter\n",
    "counter = -1\n",
    "        \n",
    "for row in df3['Bag Weight']:\n",
    "   counter += 1\n",
    "   if \"kg\" in row and \"lbs\" in row:\n",
    "        df3.iloc[counter, 13] = \"\""
   ]
  },
  {
   "cell_type": "code",
   "execution_count": 27,
   "metadata": {},
   "outputs": [],
   "source": [
    "## list keeping track of cells with lbs for conversion later\n",
    "counter = 0\n",
    "idx_lst = []\n",
    "for idx, row in enumerate(df3['Bag Weight']):\n",
    "    if \"lbs\" in row:\n",
    "        counter += 1\n",
    "\n",
    "        idx_lst.append(idx)"
   ]
  },
  {
   "cell_type": "code",
   "execution_count": 13,
   "metadata": {},
   "outputs": [],
   "source": [
    "counter = -1\n",
    "        \n",
    "for row in df2['Bag Weight']:\n",
    "   counter += 1\n",
    "   if \"kg\" in row and \"lbs\" in row: \n",
    "        df2.iloc[counter, 13] = 0"
   ]
  },
  {
   "cell_type": "code",
   "execution_count": 17,
   "metadata": {
    "tags": [
     "outputPrepend"
    ]
   },
   "outputs": [],
   "source": [
    "## Bag Weight convert to all kg. Drop all letters and make int\n",
    "# if the cell has lbs and kg make the cell empty\n",
    "\n",
    "counter = -1\n",
    "        \n",
    "for row in df2['Bag Weight']:\n",
    "   counter += 1\n",
    "   if row ==0:\n",
    "       continue\n",
    "   if \"kg\" in row:\n",
    "        fixed = re.sub(r'[a-z]+','',row,re.I) \n",
    "        df2.iloc[counter, 13] = fixed\n",
    "   if \"lbs\" in row:\n",
    "        fixed= re.sub(r'[a-z]+','',row,re.I)\n",
    "        df2.iloc[counter, 13] = fixed\n"
   ]
  },
  {
   "cell_type": "code",
   "execution_count": 34,
   "metadata": {},
   "outputs": [],
   "source": [
    "#type conversion\n",
    "\n",
    "df2['Bag Weight'] = df2['Bag Weight'].astype(int)"
   ]
  },
  {
   "cell_type": "code",
   "execution_count": 36,
   "metadata": {},
   "outputs": [],
   "source": [
    "## convert lbs to kg\n",
    "for i in idx_lst:\n",
    "   df2.iloc[i,13]=df2.iloc[i,13]*.453592\n",
    "\n"
   ]
  },
  {
   "cell_type": "code",
   "execution_count": 38,
   "metadata": {},
   "outputs": [],
   "source": [
    "df2.to_csv('testing.csv')"
   ]
  },
  {
   "cell_type": "code",
   "execution_count": 35,
   "metadata": {},
   "outputs": [
    {
     "output_type": "execute_result",
     "data": {
      "text/plain": "quality_score            float64\nSpecies                   object\nOwner                     object\nCountry of Origin         object\nFarm Name                 object\nLot Number                object\nMill                      object\nICO Number                object\nCompany                   object\nAltitude                  object\nRegion                    object\nProducer                  object\nNumber of Bags             int64\nBag Weight                 int32\nIn-Country Partner        object\nHarvest Year              object\nGrading Date              object\nOwner.1                   object\nVariety                   object\nStatus                    object\nProcessing Method         object\nNA                        object\nAroma                    float64\nFlavor                   float64\nAftertaste               float64\nAcidity                  float64\nBody                     float64\nBalance                  float64\nUniformity               float64\nClean Cup                float64\nSweetness                float64\nCupper Points            float64\nTotal Cup Points          object\nMoisture                  object\nCategory One Defects      object\nQuakers                   object\nColor                     object\nCategory Two Defects      object\nExpiration                object\nCertification Body        object\nCertification Address     object\nCertification Contact     object\nUnnamed: 51               object\nNotes                     object\ndtype: object"
     },
     "metadata": {},
     "execution_count": 35
    }
   ],
   "source": [
    "df2.dtypes"
   ]
  },
  {
   "cell_type": "code",
   "execution_count": 121,
   "metadata": {},
   "outputs": [],
   "source": [
    "##Fix altitude data\n"
   ]
  },
  {
   "cell_type": "code",
   "execution_count": null,
   "metadata": {},
   "outputs": [],
   "source": [
    "## harvest year convert to YYYY format for latest year"
   ]
  }
 ],
 "metadata": {
  "language_info": {
   "codemirror_mode": {
    "name": "ipython",
    "version": 3
   },
   "file_extension": ".py",
   "mimetype": "text/x-python",
   "name": "python",
   "nbconvert_exporter": "python",
   "pygments_lexer": "ipython3",
   "version": "3.7.4-final"
  },
  "orig_nbformat": 2,
  "kernelspec": {
   "name": "python3",
   "display_name": "Python 3"
  }
 },
 "nbformat": 4,
 "nbformat_minor": 2
}